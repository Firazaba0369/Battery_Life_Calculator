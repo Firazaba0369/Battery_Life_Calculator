{
 "cells": [
  {
   "cell_type": "code",
   "execution_count": 6,
   "id": "3d89f750-ed54-464b-9afc-0ba1be249320",
   "metadata": {},
   "outputs": [
    {
     "name": "stdin",
     "output_type": "stream",
     "text": [
      "Deployment Duration: 5\n"
     ]
    },
    {
     "name": "stdout",
     "output_type": "stream",
     "text": [
      "\n",
      "Please choose processing method:\n",
      "Raw Recording\n",
      "Inference\n",
      "Filtering + Compression\n"
     ]
    },
    {
     "name": "stdin",
     "output_type": "stream",
     "text": [
      "Enter your choice:  Raw Recording\n"
     ]
    },
    {
     "name": "stdout",
     "output_type": "stream",
     "text": [
      "10\n",
      "\n",
      "Please choose output method:\n",
      "Save to SD\n",
      "Transmit via LoRa\n"
     ]
    },
    {
     "name": "stdin",
     "output_type": "stream",
     "text": [
      "Enter your choice:  fd\n"
     ]
    },
    {
     "ename": "KeyError",
     "evalue": "'fd'",
     "output_type": "error",
     "traceback": [
      "\u001b[31m---------------------------------------------------------------------------\u001b[39m",
      "\u001b[31mKeyError\u001b[39m                                  Traceback (most recent call last)",
      "\u001b[36mCell\u001b[39m\u001b[36m \u001b[39m\u001b[32mIn[6]\u001b[39m\u001b[32m, line 40\u001b[39m\n\u001b[32m     37\u001b[39m choice = \u001b[38;5;28minput\u001b[39m(\u001b[33m\"\u001b[39m\u001b[33mEnter your choice: \u001b[39m\u001b[33m\"\u001b[39m)\n\u001b[32m     39\u001b[39m \u001b[38;5;66;03m# Add to current consumption\u001b[39;00m\n\u001b[32m---> \u001b[39m\u001b[32m40\u001b[39m current_consumption += \u001b[43moutput_options\u001b[49m\u001b[43m[\u001b[49m\u001b[43mchoice\u001b[49m\u001b[43m]\u001b[49m\n\u001b[32m     41\u001b[39m \u001b[38;5;28mprint\u001b[39m(current_consumption)\n\u001b[32m     43\u001b[39m \u001b[38;5;66;03m# Define model dictionary\u001b[39;00m\n",
      "\u001b[31mKeyError\u001b[39m: 'fd'"
     ]
    }
   ],
   "source": [
    "from matplotlib import pyplot as plt\n",
    "import numpy as np\n",
    "\n",
    "#TO-DO: Get accurate estimations for current values\n",
    "\n",
    "# Request deployment duration\n",
    "duration = input(\"Deployment Duration:\")\n",
    "\n",
    "# Define processing dictionary\n",
    "processing_options = {\n",
    "    \"Raw Recording\": 5,   # mA\n",
    "    \"Inference\": 18,\n",
    "    \"Filtering + Compression\": 20\n",
    "}\n",
    "\n",
    "# Prompt processing method\n",
    "print(\"\\nPlease choose processing method:\")\n",
    "print(\"Raw Recording\")\n",
    "print(\"Inference\")\n",
    "print(\"Filtering + Compression\")\n",
    "choice = input(\"Enter your choice: \")\n",
    "\n",
    "# Add to current consumption\n",
    "current_consumption += processing_options[choice]\n",
    "print(current_consumption)\n",
    "\n",
    "# Define output dictionary\n",
    "output_options = {\n",
    "    \"Save to SD\": 2,       # mA\n",
    "    \"Transmit via LoRa\": 25\n",
    "}\n",
    "\n",
    "# Prompt output method\n",
    "print(\"\\nPlease choose output method:\")\n",
    "print(\"Save to SD\")\n",
    "print(\"Transmit via LoRa\")\n",
    "choice = input(\"Enter your choice: \")\n",
    "\n",
    "# Add to current consumption\n",
    "current_consumption += output_options[choice]\n",
    "print(current_consumption)\n",
    "\n",
    "# Define model dictionary\n",
    "model_options = {\n",
    "    \"Burrowing Owl Model\": 15,  # mA\n",
    "    \"Panda Bear Model\": 10,\n",
    "    \"Polar Bear Model\": 25\n",
    "}\n",
    "\n",
    "# Prompt output method\n",
    "print(\"\\nPlease choose model option:\")\n",
    "print(\"Panda Bear Model\")\n",
    "print(\"Polar Bear Model\")\n",
    "choice = input(\"Enter your choice: \")\n",
    "\n",
    "# Add to current consumption\n",
    "current_consumption += output_options[choice]\n",
    "print(current_consumption)\n",
    "\n",
    "\n",
    "# Output desired plot\n",
    "#fig, ax = plt.subplots()"
   ]
  },
  {
   "cell_type": "code",
   "execution_count": null,
   "id": "13f26d64-4f56-4aaf-a4df-c55d6b240474",
   "metadata": {},
   "outputs": [],
   "source": []
  }
 ],
 "metadata": {
  "kernelspec": {
   "display_name": "Python 3 (ipykernel)",
   "language": "python",
   "name": "python3"
  },
  "language_info": {
   "codemirror_mode": {
    "name": "ipython",
    "version": 3
   },
   "file_extension": ".py",
   "mimetype": "text/x-python",
   "name": "python",
   "nbconvert_exporter": "python",
   "pygments_lexer": "ipython3",
   "version": "3.13.2"
  }
 },
 "nbformat": 4,
 "nbformat_minor": 5
}

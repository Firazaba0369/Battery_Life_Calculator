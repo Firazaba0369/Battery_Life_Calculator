{
 "cells": [
  {
   "cell_type": "code",
   "execution_count": null,
   "id": "3d89f750-ed54-464b-9afc-0ba1be249320",
   "metadata": {},
   "outputs": [
    {
     "name": "stdin",
     "output_type": "stream",
     "text": [
      "Deployment Duration (Days): 5\n"
     ]
    },
    {
     "name": "stdout",
     "output_type": "stream",
     "text": [
      "\n",
      "Please choose model option:\n",
      "- Raw Recording (5 mA)\n",
      "- Inference (18 mA)\n",
      "- Filtering + Compression (20 mA)\n"
     ]
    },
    {
     "name": "stdin",
     "output_type": "stream",
     "text": [
      "Enter your choice:  Raw Recording\n"
     ]
    },
    {
     "name": "stdout",
     "output_type": "stream",
     "text": [
      "Selected: Raw Recording (5 mA)\n",
      "\n",
      "Please choose model option:\n",
      "- Save to SD (2 mA)\n",
      "- Transmit via LoRa (25 mA)\n"
     ]
    }
   ],
   "source": [
    "from matplotlib import pyplot as plt\n",
    "import numpy as np\n",
    "\n",
    "# Function for prompting the user with selecting options\n",
    "def prompt_options(options):\n",
    "    # Prompt user until valid choice is made\n",
    "    while True:\n",
    "        print(\"\\nPlease choose model option:\")\n",
    "        for option in options:\n",
    "            print(\"-\", f\"{option} ({options[option]} mA)\")\n",
    "        choice = input(\"Enter your choice: \")\n",
    "    \n",
    "        if choice in options:\n",
    "            print(f\"Selected: {choice} ({options[choice]} mA)\")\n",
    "            break\n",
    "        else:\n",
    "            print(\"Invalid choice. Please try again.\") \n",
    "\n",
    "#TO-DO: Get accurate estimations for current values\n",
    "\n",
    "# Request deployment duration\n",
    "duration = input(\"Deployment Duration (Days):\")\n",
    "\n",
    "# Define processing dictionary\n",
    "processing_options = {\n",
    "    \"Raw Recording\": 5,   # mA\n",
    "    \"Inference\": 18,\n",
    "    \"Filtering + Compression\": 20\n",
    "}   \n",
    "\n",
    "# Define output dictionary\n",
    "output_options = {\n",
    "    \"Save to SD\": 2,       # mA\n",
    "    \"Transmit via LoRa\": 25\n",
    "}\n",
    "\n",
    "# Define model dictionary\n",
    "model_options = {\n",
    "    \"Burrowing Owl Model\": 15,  # mA\n",
    "    \"Panda Bear Model\": 10,\n",
    "    \"Polar Bear Model\": 25\n",
    "}\n",
    "# Prompt processing options\n",
    "prompt_options(processing_options);\n",
    "\n",
    "# Prompt output_options\n",
    "prompt_options(output_options);\n",
    "\n",
    "# Prompt model options\n",
    "prompt_options(model_options);\n",
    "\n",
    "# Output desired plot\n",
    "#fig, ax = plt.subplots()\n"
   ]
  },
  {
   "cell_type": "code",
   "execution_count": null,
   "id": "13f26d64-4f56-4aaf-a4df-c55d6b240474",
   "metadata": {},
   "outputs": [],
   "source": []
  },
  {
   "cell_type": "code",
   "execution_count": null,
   "id": "d3ca05b9-65dc-4838-8790-0060adc3a76c",
   "metadata": {},
   "outputs": [],
   "source": []
  }
 ],
 "metadata": {
  "kernelspec": {
   "display_name": "Python 3 (ipykernel)",
   "language": "python",
   "name": "python3"
  },
  "language_info": {
   "codemirror_mode": {
    "name": "ipython",
    "version": 3
   },
   "file_extension": ".py",
   "mimetype": "text/x-python",
   "name": "python",
   "nbconvert_exporter": "python",
   "pygments_lexer": "ipython3",
   "version": "3.13.2"
  }
 },
 "nbformat": 4,
 "nbformat_minor": 5
}

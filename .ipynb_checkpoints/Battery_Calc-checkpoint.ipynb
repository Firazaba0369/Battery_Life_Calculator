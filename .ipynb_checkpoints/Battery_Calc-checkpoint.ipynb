{
 "cells": [
  {
   "cell_type": "code",
   "execution_count": null,
   "id": "c53f247b",
   "metadata": {},
   "outputs": [],
   "source": [
    "# Importing Libraries\n",
    "import ipywidgets as widgets\n",
    "from IPython.display import display\n",
    "from matplotlib import pyplot as plt\n",
    "import numpy as np\n",
    "\n",
    "# ----- Definitions -----\n",
    "# Define processing dictionary\n",
    "processing_options = {\n",
    "    \"Raw Recording\": 5,   # mA\n",
    "    \"Inference\": 18,\n",
    "    \"Filtering + Compression\": 20\n",
    "}\n",
    "\n",
    "# Define output dictionary\n",
    "output_options = {\n",
    "    \"Save to SD\": 2,       # mA\n",
    "    \"Transmit via LoRa\": 25\n",
    "}\n",
    "\n",
    "# Define model dictionary\n",
    "model_options = {\n",
    "    \"Burrowing Owl Model\": 15,  # mA\n",
    "    \"Panda Bear Model\": 10,\n",
    "    \"Polar Bear Model\": 25\n",
    "}"
   ]
  },
  {
   "cell_type": "code",
   "execution_count": 17,
   "id": "4f7528cf",
   "metadata": {},
   "outputs": [
    {
     "name": "stdout",
     "output_type": "stream",
     "text": [
      "\n",
      "Please enter a deployment duration:\n"
     ]
    },
    {
     "data": {
      "application/vnd.jupyter.widget-view+json": {
       "model_id": "19f0e91d681d4c85a27d64dd477e68ed",
       "version_major": 2,
       "version_minor": 0
      },
      "text/plain": [
       "BoundedIntText(value=0, description='Months:', max=10)"
      ]
     },
     "metadata": {},
     "output_type": "display_data"
    }
   ],
   "source": [
    "# Request deployment duration\n",
    "print(\"\\nPlease enter a deployment duration:\")\n",
    "duration = widgets.BoundedIntText(\n",
    "    value=0,\n",
    "    min=0,\n",
    "    max=10,\n",
    "    step=1,\n",
    "    description='Months:',\n",
    "    disabled=False\n",
    ")\n",
    "display(duration)\n",
    "# duration = input(\"Deployment Duration (months):\")"
   ]
  },
  {
   "cell_type": "code",
   "execution_count": 18,
   "id": "7fdca44e",
   "metadata": {},
   "outputs": [
    {
     "name": "stdout",
     "output_type": "stream",
     "text": [
      "\n",
      "Please choose processing method:\n"
     ]
    },
    {
     "data": {
      "application/vnd.jupyter.widget-view+json": {
       "model_id": "a1c5329dfd804a649f44cf8bfecd919e",
       "version_major": 2,
       "version_minor": 0
      },
      "text/plain": [
       "Dropdown(description='Method:', options=('Raw Recording', 'Inference', 'Filtering + Compression'), value='Raw …"
      ]
     },
     "metadata": {},
     "output_type": "display_data"
    }
   ],
   "source": [
    "# Prompt processing method\n",
    "print(\"\\nPlease choose processing method:\")\n",
    "process = widgets.Dropdown(\n",
    "    options=[\"Raw Recording\", \"Inference\", \"Filtering + Compression\"],\n",
    "    value=\"Raw Recording\",\n",
    "    description=\"Method:\",\n",
    "    disabled=False,\n",
    ")\n",
    "display(process)\n",
    "\n",
    "# Add to current consumption\n",
    "# print(process.value)\n",
    "# current_consumption += processing_options[process.value]\n",
    "# print(current_consumption)"
   ]
  },
  {
   "cell_type": "code",
   "execution_count": 19,
   "id": "a588e12b",
   "metadata": {},
   "outputs": [
    {
     "name": "stdout",
     "output_type": "stream",
     "text": [
      "\n",
      "Please choose output method:\n"
     ]
    },
    {
     "data": {
      "application/vnd.jupyter.widget-view+json": {
       "model_id": "c96e88632a544f27a9459ca4dece42e1",
       "version_major": 2,
       "version_minor": 0
      },
      "text/plain": [
       "Dropdown(description='Method:', options=('Save to SD', 'Transmit via LoRa'), value='Save to SD')"
      ]
     },
     "metadata": {},
     "output_type": "display_data"
    }
   ],
   "source": [
    "# Prompt output method\n",
    "print(\"\\nPlease choose output method:\")\n",
    "output = widgets.Dropdown(\n",
    "    options=[\"Save to SD\", \"Transmit via LoRa\"],\n",
    "    value=\"Save to SD\",\n",
    "    description=\"Method:\",\n",
    "    disabled=False,\n",
    ")\n",
    "display(output)"
   ]
  },
  {
   "cell_type": "code",
   "execution_count": 20,
   "id": "a0126d44",
   "metadata": {},
   "outputs": [
    {
     "name": "stdout",
     "output_type": "stream",
     "text": [
      "\n",
      "Please choose model option:\n"
     ]
    },
    {
     "data": {
      "application/vnd.jupyter.widget-view+json": {
       "model_id": "7ccecc48988b4ebe93cc2db323d9e426",
       "version_major": 2,
       "version_minor": 0
      },
      "text/plain": [
       "Dropdown(description='Method:', options=('Panda Bear Model', 'Polar Bear Model'), value='Panda Bear Model')"
      ]
     },
     "metadata": {},
     "output_type": "display_data"
    }
   ],
   "source": [
    "print(\"\\nPlease choose model option:\")\n",
    "model = widgets.Dropdown(\n",
    "    options=[\"Panda Bear Model\", \"Polar Bear Model\"],\n",
    "    value=\"Panda Bear Model\",\n",
    "    description=\"Method:\",\n",
    "    disabled=False,\n",
    ")\n",
    "display(model)\n"
   ]
  },
  {
   "cell_type": "code",
   "execution_count": null,
   "id": "3d89f750-ed54-464b-9afc-0ba1be249320",
   "metadata": {},
   "outputs": [
    {
     "name": "stdout",
     "output_type": "stream",
     "text": [
      "17\n"
     ]
    }
   ],
   "source": [
    "#TO-DO: Get accurate estimations for current values\n",
    "\n",
    "# Add values to current consumption\n",
    "current_consumption = 0\n",
    "current_consumption += processing_options[process.value]\n",
    "current_consumption += output_options[output.value]\n",
    "current_consumption += model_options[model.value]\n",
    "print(current_consumption)\n",
    "\n",
    "# Estimated life/battery weight\n",
    "\n",
    "# Output desired plot\n",
    "#fig, ax = plt.subplots()"
   ]
  },
  {
   "cell_type": "code",
   "execution_count": null,
   "id": "3ab6d719",
   "metadata": {},
   "outputs": [],
   "source": []
  }
 ],
 "metadata": {
  "kernelspec": {
   "display_name": ".env",
   "language": "python",
   "name": "python3"
  },
  "language_info": {
   "codemirror_mode": {
    "name": "ipython",
    "version": 3
   },
   "file_extension": ".py",
   "mimetype": "text/x-python",
   "name": "python",
   "nbconvert_exporter": "python",
   "pygments_lexer": "ipython3",
   "version": "3.13.0"
  }
 },
 "nbformat": 4,
 "nbformat_minor": 5
}

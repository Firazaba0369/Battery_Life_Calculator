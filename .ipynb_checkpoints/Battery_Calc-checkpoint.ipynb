{
 "cells": [
  {
   "cell_type": "code",
   "execution_count": 1,
   "id": "c53f247b",
   "metadata": {},
   "outputs": [],
   "source": [
    "# Importing Libraries\n",
    "import ipywidgets as widgets\n",
    "from IPython.display import display\n",
    "from matplotlib import pyplot as plt\n",
    "import numpy as np\n",
    "\n",
    "# ----- Definitions -----\n",
    "# Define processing dictionary\n",
    "processing_options = {\n",
    "    \"Raw Recording\": 5,   # mA\n",
    "    \"Inference\": 18,\n",
    "    \"Filtering + Compression\": 20\n",
    "}\n",
    "\n",
    "# Define output dictionary\n",
    "output_options = {\n",
    "    \"Save to SD\": 2,       # mA\n",
    "    \"Transmit via LoRa\": 25\n",
    "}\n",
    "\n",
    "# Define model dictionary\n",
    "model_options = {\n",
    "    \"Burrowing Owl Model\": 15,  # mA\n",
    "    \"Panda Bear Model\": 10,\n",
    "    \"Polar Bear Model\": 25\n",
    "}"
   ]
  },
  {
   "cell_type": "code",
   "execution_count": 5,
   "id": "4f7528cf",
   "metadata": {},
   "outputs": [],
   "source": [
    "# duration\n",
    "duration = widgets.BoundedIntText(\n",
    "    value=12,\n",
    "    min=0,\n",
    "    max=24,\n",
    "    step=1,\n",
    "    description='Months:',\n",
    "    disabled=False\n",
    ")\n",
    "\n",
    "# process\n",
    "process = widgets.Dropdown(\n",
    "    options=[\"Raw Recording\", \"Inference\", \"Filtering + Compression\"],\n",
    "    value=\"Raw Recording\",\n",
    "    description=\"Method:\",\n",
    "    disabled=False,\n",
    ")\n",
    "\n",
    "#output\n",
    "output = widgets.Dropdown(\n",
    "    options=[\"Save to SD\", \"Transmit via LoRa\"],\n",
    "    value=\"Save to SD\",\n",
    "    description=\"Method:\",\n",
    "    disabled=False,\n",
    ")\n",
    "\n",
    "# model\n",
    "model = widgets.Dropdown(\n",
    "    options=[\"Panda Bear Model\", \"Polar Bear Model\"],\n",
    "    value=\"Panda Bear Model\",\n",
    "    description=\"Method:\",\n",
    "    disabled=False,\n",
    ")\n",
    "\n",
    "# sample rate\n",
    "sample_rate = widgets.FloatSlider(\n",
    "    value=16,\n",
    "    min=0,\n",
    "    max=1000.0,\n",
    "    step=0.1,\n",
    "    description='Freq (kHz):',\n",
    "    disabled=False,\n",
    "    continuous_update=False,\n",
    "    orientation='horizontal',\n",
    "    readout=True,\n",
    "    readout_format='.1f',\n",
    ")\n",
    "\n",
    "# channels\n",
    "channels = widgets.BoundedIntText(\n",
    "    value=2,\n",
    "    min=0,\n",
    "    max=100,\n",
    "    step=1,\n",
    "    description='Channels:',\n",
    "    disabled=False\n",
    ")\n",
    "\n",
    "# bit depth\n",
    "bit_depth = widgets.BoundedIntText(\n",
    "    value=16,\n",
    "    min=0,\n",
    "    max=64,\n",
    "    step=8,\n",
    "    description='Bit-depth:',\n",
    "    disabled=False\n",
    ")\n",
    "\n",
    "# recording len [s]\n",
    "recording_len = widgets.BoundedIntText(\n",
    "    value=30,\n",
    "    min=0,\n",
    "    max=60,\n",
    "    step=1,\n",
    "    description='Recording Len:',\n",
    "    disabled=False\n",
    ")\n",
    "\n",
    "# number of recordings per hour\n",
    "num_recordings = widgets.BoundedIntText(\n",
    "    value=3,\n",
    "    min=0,\n",
    "    max=100,\n",
    "    step=1,\n",
    "    description='Num Recordings:',\n",
    "    disabled=False\n",
    ")\n",
    "\n",
    "# hours recording\n",
    "hours = widgets.BoundedIntText(\n",
    "    value=14,\n",
    "    min=0,\n",
    "    max=24,\n",
    "    step=1,\n",
    "    description='Hours Recording:',\n",
    "    disabled=False\n",
    ")"
   ]
  },
  {
   "cell_type": "code",
   "execution_count": 3,
   "id": "67f7de4e",
   "metadata": {},
   "outputs": [
    {
     "name": "stdout",
     "output_type": "stream",
     "text": [
      "Please enter a deployment duration:\n"
     ]
    },
    {
     "data": {
      "application/vnd.jupyter.widget-view+json": {
       "model_id": "e574ffdc4f884f708f56df3b5f7ec724",
       "version_major": 2,
       "version_minor": 0
      },
      "text/plain": [
       "BoundedIntText(value=12, description='Months:', max=24)"
      ]
     },
     "metadata": {},
     "output_type": "display_data"
    },
    {
     "name": "stdout",
     "output_type": "stream",
     "text": [
      "Please choose a processing method:\n"
     ]
    },
    {
     "data": {
      "application/vnd.jupyter.widget-view+json": {
       "model_id": "f6b36e2269874121b67a7c0eef5e2ee7",
       "version_major": 2,
       "version_minor": 0
      },
      "text/plain": [
       "Dropdown(description='Method:', options=('Raw Recording', 'Inference', 'Filtering + Compression'), value='Raw …"
      ]
     },
     "metadata": {},
     "output_type": "display_data"
    },
    {
     "name": "stdout",
     "output_type": "stream",
     "text": [
      "Please choose an output method:\n"
     ]
    },
    {
     "data": {
      "application/vnd.jupyter.widget-view+json": {
       "model_id": "fb9b50c7c6c340cba36208b06714df79",
       "version_major": 2,
       "version_minor": 0
      },
      "text/plain": [
       "Dropdown(description='Method:', options=('Save to SD', 'Transmit via LoRa'), value='Save to SD')"
      ]
     },
     "metadata": {},
     "output_type": "display_data"
    },
    {
     "name": "stdout",
     "output_type": "stream",
     "text": [
      "Please select a model:\n"
     ]
    },
    {
     "data": {
      "application/vnd.jupyter.widget-view+json": {
       "model_id": "a8960680e8fd464bb869ac10a8c5031e",
       "version_major": 2,
       "version_minor": 0
      },
      "text/plain": [
       "Dropdown(description='Method:', options=('Panda Bear Model', 'Polar Bear Model'), value='Panda Bear Model')"
      ]
     },
     "metadata": {},
     "output_type": "display_data"
    },
    {
     "name": "stdout",
     "output_type": "stream",
     "text": [
      "Please enter sampling rate:\n"
     ]
    },
    {
     "data": {
      "application/vnd.jupyter.widget-view+json": {
       "model_id": "41960690401e4c889f9c24ab0c7b23a5",
       "version_major": 2,
       "version_minor": 0
      },
      "text/plain": [
       "FloatSlider(value=48.0, continuous_update=False, description='Freq (kHz):', max=1000.0, readout_format='.1f')"
      ]
     },
     "metadata": {},
     "output_type": "display_data"
    },
    {
     "name": "stdout",
     "output_type": "stream",
     "text": [
      "Please enter # of channels:\n"
     ]
    },
    {
     "data": {
      "application/vnd.jupyter.widget-view+json": {
       "model_id": "7c110029cd454376be4e673f021e99a4",
       "version_major": 2,
       "version_minor": 0
      },
      "text/plain": [
       "BoundedIntText(value=2, description='Channels:')"
      ]
     },
     "metadata": {},
     "output_type": "display_data"
    },
    {
     "name": "stdout",
     "output_type": "stream",
     "text": [
      "Please enter bit_depth:\n"
     ]
    },
    {
     "data": {
      "application/vnd.jupyter.widget-view+json": {
       "model_id": "3b49dde906e24055b86d0dcd40a6e513",
       "version_major": 2,
       "version_minor": 0
      },
      "text/plain": [
       "BoundedIntText(value=16, description='Bit-depth:', max=64, step=8)"
      ]
     },
     "metadata": {},
     "output_type": "display_data"
    },
    {
     "name": "stdout",
     "output_type": "stream",
     "text": [
      "Please enter length of recordings in seconds:\n"
     ]
    },
    {
     "data": {
      "application/vnd.jupyter.widget-view+json": {
       "model_id": "7a3ebc6ee6834ce7bcce9ed8d74c32a7",
       "version_major": 2,
       "version_minor": 0
      },
      "text/plain": [
       "BoundedIntText(value=30, description='Recording Len:', max=60)"
      ]
     },
     "metadata": {},
     "output_type": "display_data"
    },
    {
     "name": "stdout",
     "output_type": "stream",
     "text": [
      "Please enter # recordings per hour:\n"
     ]
    },
    {
     "data": {
      "application/vnd.jupyter.widget-view+json": {
       "model_id": "a9844f8777594560920cf24916bb21f6",
       "version_major": 2,
       "version_minor": 0
      },
      "text/plain": [
       "BoundedIntText(value=3, description='Num Recordings:')"
      ]
     },
     "metadata": {},
     "output_type": "display_data"
    },
    {
     "name": "stdout",
     "output_type": "stream",
     "text": [
      "Please enter # of hours per day recording:\n"
     ]
    },
    {
     "data": {
      "application/vnd.jupyter.widget-view+json": {
       "model_id": "a7eaece4c2434af7828565ce30655c73",
       "version_major": 2,
       "version_minor": 0
      },
      "text/plain": [
       "BoundedIntText(value=14, description='Hours Recording:', max=24)"
      ]
     },
     "metadata": {},
     "output_type": "display_data"
    }
   ],
   "source": [
    "# Request Params\n",
    "\n",
    "# Request deployment duration\n",
    "print(\"Please enter a deployment duration:\")\n",
    "display(duration)\n",
    "# Request processing method\n",
    "print(\"Please choose a processing method:\")\n",
    "display(process)\n",
    "# Request output method\n",
    "print(\"Please choose an output method:\")\n",
    "display(output)\n",
    "# Request model\n",
    "print(\"Please select a model:\")\n",
    "display(model)\n",
    "# Request sampling frequency\n",
    "print(\"Please enter sampling rate:\")\n",
    "display(sample_rate)\n",
    "\n",
    "# Request number of channels\n",
    "print(\"Please enter # of channels:\")\n",
    "display(channels)\n",
    "\n",
    "# Request bit depth\n",
    "print(\"Please enter bit_depth:\")\n",
    "display(bit_depth)\n",
    "\n",
    "# Request approximate length of recordings in seconds\n",
    "print(\"Please enter length of recordings in seconds:\")\n",
    "display(recording_len)\n",
    "\n",
    "# Request number of recordings per hour\n",
    "print(\"Please enter # recordings per hour:\")\n",
    "display(num_recordings)\n",
    "\n",
    "# Request # of hours per day recording\n",
    "print(\"Please enter # of hours per day recording:\")\n",
    "display(hours)"
   ]
  },
  {
   "cell_type": "code",
   "execution_count": 6,
   "id": "3d89f750-ed54-464b-9afc-0ba1be249320",
   "metadata": {},
   "outputs": [
    {
     "name": "stdout",
     "output_type": "stream",
     "text": [
      "========Selections========\n",
      "Duration: 12 (months)\n",
      "Sampling Rate: 16.0 kHz\n",
      "Process: Raw Recording, 5 (mA)\n",
      "Output: Save to SD, 2 (mA)\n",
      "Model: Panda Bear Model, 10 (mA)\n",
      "==========================\n",
      "Total Current Consumption (mA): 17\n",
      "\n",
      "========Fermi Estimations========\n",
      "Total Data Length Estimate: 453600 s, 126.0 hour(s)\n",
      "Total Data Size Estimate: 27.04 GB\n",
      "Total Battery Weight Estimate: 0\n",
      "=================================\n"
     ]
    }
   ],
   "source": [
    "### TO-DO: \n",
    "# Get accurate estimations for current values\n",
    "# figure out what other params we want to calculate (s), sampling rate (how many samples per hour, duration of samples)?\n",
    "\n",
    "print(\"========Selections========\")\n",
    "print(f\"Duration: {duration.value} (months)\")\n",
    "print(f\"Sampling Rate: {sample_rate.value} kHz\")\n",
    "print(f\"Process: {process.value}, {processing_options[process.value]} (mA)\")\n",
    "print(f\"Output: {output.value}, {output_options[output.value]} (mA)\")\n",
    "print(f\"Model: {model.value}, {model_options[model.value]} (mA)\")\n",
    "print(\"==========================\")\n",
    "# Add values to current consumption\n",
    "current_consumption = 0\n",
    "current_consumption += processing_options[process.value]\n",
    "current_consumption += output_options[output.value]\n",
    "current_consumption += model_options[model.value]\n",
    "print(\"Total Current Consumption (mA):\", current_consumption)\n",
    "\n",
    "# calculate fermi estimations\n",
    "battery_weight = 0 \n",
    "data_len = recording_len.value * num_recordings.value * hours.value * (duration.value * 30)\n",
    "data_size = (channels.value * (bit_depth.value/8) * (sample_rate.value * 1000) * data_len) / 1073741824\n",
    "\n",
    "# Fermi Estimations on Battery weight and life\n",
    "print(\"\\n========Fermi Estimations========\")\n",
    "print(f\"Total Data Length Estimate: {data_len} s, {data_len/3600} hour(s)\")\n",
    "print(f\"Total Data Size Estimate: {data_size:.2f} GB\")\n",
    "print(f\"Total Battery Weight Estimate: {battery_weight}\")\n",
    "print(\"=================================\")\n",
    "\n",
    "\n",
    "# Plot \n",
    "#fig, ax = plt.subplots()"
   ]
  },
  {
   "cell_type": "code",
   "execution_count": null,
   "id": "3ab6d719",
   "metadata": {},
   "outputs": [],
   "source": []
  }
 ],
 "metadata": {
  "kernelspec": {
   "display_name": ".env",
   "language": "python",
   "name": "python3"
  },
  "language_info": {
   "codemirror_mode": {
    "name": "ipython",
    "version": 3
   },
   "file_extension": ".py",
   "mimetype": "text/x-python",
   "name": "python",
   "nbconvert_exporter": "python",
   "pygments_lexer": "ipython3",
   "version": "3.13.0"
  }
 },
 "nbformat": 4,
 "nbformat_minor": 5
}

{
 "cells": [
  {
   "cell_type": "code",
   "execution_count": 1,
   "id": "c53f247b",
   "metadata": {},
   "outputs": [],
   "source": [
    "# Importing Libraries\n",
    "import ipywidgets as widgets\n",
    "from IPython.display import display\n",
    "from matplotlib import pyplot as plt\n",
    "import numpy as np\n",
    "\n",
    "# ----- Definitions -----\n",
    "# Define processing dictionary\n",
    "processing_options = {\n",
    "    \"Raw Recording\": 5,   # mA\n",
    "    \"Inference\": 18,\n",
    "    \"Filtering + Compression\": 20\n",
    "}\n",
    "\n",
    "# Define output dictionary\n",
    "output_options = {\n",
    "    \"Save to SD\": 2,       # mA\n",
    "    \"Transmit via LoRa\": 25\n",
    "}\n",
    "\n",
    "# Define model dictionary\n",
    "model_options = {\n",
    "    \"Burrowing Owl Model\": 15,  # mA\n",
    "    \"Panda Bear Model\": 10,\n",
    "    \"Polar Bear Model\": 25\n",
    "}"
   ]
  },
  {
   "cell_type": "code",
   "execution_count": null,
   "id": "4f7528cf",
   "metadata": {},
   "outputs": [
    {
     "name": "stdout",
     "output_type": "stream",
     "text": [
      "\n",
      "Please enter a deployment duration:\n"
     ]
    },
    {
     "data": {
      "application/vnd.jupyter.widget-view+json": {
       "model_id": "07ec4726faa64d38a3d34b4ebabe2cef",
       "version_major": 2,
       "version_minor": 0
      },
      "text/plain": [
       "BoundedIntText(value=0, description='Months:', max=24)"
      ]
     },
     "metadata": {},
     "output_type": "display_data"
    }
   ],
   "source": [
    "# Request deployment duration\n",
    "## NOTE: it might be nice to make this into a slider on the bottom?\n",
    "print(\"\\nPlease enter a deployment duration:\")\n",
    "duration = widgets.BoundedIntText(\n",
    "    value=0,\n",
    "    min=0,\n",
    "    max=24,\n",
    "    step=1,\n",
    "    description='Months:',\n",
    "    disabled=False\n",
    ")\n",
    "display(duration)\n",
    "# duration = input(\"Deployment Duration (months):\")"
   ]
  },
  {
   "cell_type": "code",
   "execution_count": 4,
   "id": "7fdca44e",
   "metadata": {},
   "outputs": [
    {
     "name": "stdout",
     "output_type": "stream",
     "text": [
      "\n",
      "Please choose processing method:\n"
     ]
    },
    {
     "data": {
      "application/vnd.jupyter.widget-view+json": {
       "model_id": "c065bf06f65741fda716f1ea800871a0",
       "version_major": 2,
       "version_minor": 0
      },
      "text/plain": [
       "Dropdown(description='Method:', options=('Raw Recording', 'Inference', 'Filtering + Compression'), value='Raw …"
      ]
     },
     "metadata": {},
     "output_type": "display_data"
    }
   ],
   "source": [
    "# Prompt processing method\n",
    "print(\"\\nPlease choose processing method:\")\n",
    "process = widgets.Dropdown(\n",
    "    options=[\"Raw Recording\", \"Inference\", \"Filtering + Compression\"],\n",
    "    value=\"Raw Recording\",\n",
    "    description=\"Method:\",\n",
    "    disabled=False,\n",
    ")\n",
    "display(process)\n",
    "\n",
    "# Add to current consumption\n",
    "# print(process.value)\n",
    "# current_consumption += processing_options[process.value]\n",
    "# print(current_consumption)"
   ]
  },
  {
   "cell_type": "code",
   "execution_count": 5,
   "id": "a588e12b",
   "metadata": {},
   "outputs": [
    {
     "name": "stdout",
     "output_type": "stream",
     "text": [
      "\n",
      "Please choose output method:\n"
     ]
    },
    {
     "data": {
      "application/vnd.jupyter.widget-view+json": {
       "model_id": "bdfd8116fc9642ef8f6ce10f1faef2dc",
       "version_major": 2,
       "version_minor": 0
      },
      "text/plain": [
       "Dropdown(description='Method:', options=('Save to SD', 'Transmit via LoRa'), value='Save to SD')"
      ]
     },
     "metadata": {},
     "output_type": "display_data"
    }
   ],
   "source": [
    "# Prompt output method\n",
    "print(\"\\nPlease choose output method:\")\n",
    "output = widgets.Dropdown(\n",
    "    options=[\"Save to SD\", \"Transmit via LoRa\"],\n",
    "    value=\"Save to SD\",\n",
    "    description=\"Method:\",\n",
    "    disabled=False,\n",
    ")\n",
    "display(output)"
   ]
  },
  {
   "cell_type": "code",
   "execution_count": 6,
   "id": "a0126d44",
   "metadata": {},
   "outputs": [
    {
     "name": "stdout",
     "output_type": "stream",
     "text": [
      "\n",
      "Please choose model option:\n"
     ]
    },
    {
     "data": {
      "application/vnd.jupyter.widget-view+json": {
       "model_id": "114e2afad8504908bf14bf86c0cca4bb",
       "version_major": 2,
       "version_minor": 0
      },
      "text/plain": [
       "Dropdown(description='Method:', options=('Panda Bear Model', 'Polar Bear Model'), value='Panda Bear Model')"
      ]
     },
     "metadata": {},
     "output_type": "display_data"
    }
   ],
   "source": [
    "print(\"\\nPlease choose model option:\")\n",
    "model = widgets.Dropdown(\n",
    "    options=[\"Panda Bear Model\", \"Polar Bear Model\"],\n",
    "    value=\"Panda Bear Model\",\n",
    "    description=\"Method:\",\n",
    "    disabled=False,\n",
    ")\n",
    "display(model)\n"
   ]
  },
  {
   "cell_type": "code",
   "execution_count": 20,
   "id": "3270ca25",
   "metadata": {},
   "outputs": [
    {
     "data": {
      "application/vnd.jupyter.widget-view+json": {
       "model_id": "96f33899c19d458cb8cc308648fdeae3",
       "version_major": 2,
       "version_minor": 0
      },
      "text/plain": [
       "FloatSlider(value=48.0, continuous_update=False, description='Freq (kHz):', max=1000.0, readout_format='.1f')"
      ]
     },
     "metadata": {},
     "output_type": "display_data"
    }
   ],
   "source": [
    "sample_freq = widgets.FloatSlider(\n",
    "    value=48,\n",
    "    min=0,\n",
    "    max=1000.0,\n",
    "    step=0.1,\n",
    "    description='Freq (kHz):',\n",
    "    disabled=False,\n",
    "    continuous_update=False,\n",
    "    orientation='horizontal',\n",
    "    readout=True,\n",
    "    readout_format='.1f',\n",
    ")\n",
    "display(sample_freq)"
   ]
  },
  {
   "cell_type": "code",
   "execution_count": null,
   "id": "3d89f750-ed54-464b-9afc-0ba1be249320",
   "metadata": {},
   "outputs": [
    {
     "name": "stdout",
     "output_type": "stream",
     "text": [
      "========Selections========\n",
      "Duration: 0 (months)\n",
      "Sampling Rate 48.0 kHz\n",
      "Process: Raw Recording, 5 (mA)\n",
      "Output: Save to SD, 2 (mA)\n",
      "Model: Panda Bear Model, 10 (mA)\n",
      "==========================\n",
      "Total Current Consumption (mA): 17\n",
      "\n",
      "========Fermi Estimations========\n",
      "=================================\n"
     ]
    }
   ],
   "source": [
    "### TO-DO: \n",
    "# Get accurate estimations for current values\n",
    "# figure out what other params we want to calculate (s), sampling rate?\n",
    "\n",
    "print(\"========Selections========\")\n",
    "print(f\"Duration: {duration.value} (months)\")\n",
    "print(f\"Sampling Frequency {sample_freq.value} kHz\")\n",
    "print(f\"Process: {process.value}, {processing_options[process.value]} (mA)\")\n",
    "print(f\"Output: {output.value}, {output_options[output.value]} (mA)\")\n",
    "print(f\"Model: {model.value}, {model_options[model.value]} (mA)\")\n",
    "print(\"==========================\")\n",
    "# Add values to current consumption\n",
    "current_consumption = 0\n",
    "current_consumption += processing_options[process.value]\n",
    "current_consumption += output_options[output.value]\n",
    "current_consumption += model_options[model.value]\n",
    "print(\"Total Current Consumption (mA):\", current_consumption)\n",
    "\n",
    "# Fermi Estimations on Battery weight and life\n",
    "print(\"\\n========Fermi Estimations========\")\n",
    "print(\"=================================\")\n",
    "\n",
    "\n",
    "# Plot \n",
    "#fig, ax = plt.subplots()"
   ]
  },
  {
   "cell_type": "code",
   "execution_count": null,
   "id": "3ab6d719",
   "metadata": {},
   "outputs": [],
   "source": []
  }
 ],
 "metadata": {
  "kernelspec": {
   "display_name": ".env",
   "language": "python",
   "name": "python3"
  },
  "language_info": {
   "codemirror_mode": {
    "name": "ipython",
    "version": 3
   },
   "file_extension": ".py",
   "mimetype": "text/x-python",
   "name": "python",
   "nbconvert_exporter": "python",
   "pygments_lexer": "ipython3",
   "version": "3.13.0"
  }
 },
 "nbformat": 4,
 "nbformat_minor": 5
}

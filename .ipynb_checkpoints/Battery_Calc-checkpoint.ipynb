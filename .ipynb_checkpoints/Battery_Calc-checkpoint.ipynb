{
 "cells": [
  {
   "cell_type": "code",
   "execution_count": 1,
   "id": "c53f247b",
   "metadata": {},
   "outputs": [],
   "source": [
    "# Importing Libraries\n",
    "import ipywidgets as widgets\n",
    "from IPython.display import display\n",
    "from matplotlib import pyplot as plt\n",
    "import numpy as np"
   ]
  },
  {
   "cell_type": "code",
   "execution_count": 2,
   "id": "4f7528cf",
   "metadata": {},
   "outputs": [],
   "source": [
    "# ----- Definitions -----\n",
    "\n",
    "# duration\n",
    "duration = widgets.BoundedIntText(\n",
    "    value=0,\n",
    "    min=0,\n",
    "    max=24,\n",
    "    step=1,\n",
    "    description='Months:',\n",
    "    layout=widgets.Layout(width='300px'),\n",
    "    style={'description_width': '100px'},\n",
    "    disabled=False\n",
    ")\n",
    "\n",
    "# inference rate\n",
    "inference_rate = widgets.BoundedIntText(\n",
    "    value = 0,\n",
    "    min = 0,\n",
    "    max = 800,\n",
    "    step = 1,\n",
    "    description = 'Inferences/Hour: ',\n",
    "    layout=widgets.Layout(width='300px'),\n",
    "    style={'description_width': '100px'},\n",
    "    disabled = False\n",
    ")"
   ]
  },
  {
   "cell_type": "code",
   "execution_count": 8,
   "id": "67f7de4e",
   "metadata": {},
   "outputs": [
    {
     "name": "stdout",
     "output_type": "stream",
     "text": [
      "Please enter a deployment duration:\n"
     ]
    },
    {
     "data": {
      "application/vnd.jupyter.widget-view+json": {
       "model_id": "3af758003d9e4ece86cda2b722cc0c7b",
       "version_major": 2,
       "version_minor": 0
      },
      "text/plain": [
       "BoundedIntText(value=12, description='Months:', layout=Layout(width='300px'), max=24, style=DescriptionStyle(d…"
      ]
     },
     "metadata": {},
     "output_type": "display_data"
    },
    {
     "name": "stdout",
     "output_type": "stream",
     "text": [
      "Please enter an inference rate:\n"
     ]
    },
    {
     "data": {
      "application/vnd.jupyter.widget-view+json": {
       "model_id": "4a0ca6d160f643cfa617c7838d4e742f",
       "version_major": 2,
       "version_minor": 0
      },
      "text/plain": [
       "BoundedIntText(value=0, description='Inferences/Hour: ', layout=Layout(width='300px'), max=800, style=Descript…"
      ]
     },
     "metadata": {},
     "output_type": "display_data"
    }
   ],
   "source": [
    "# Request Params\n",
    "\n",
    "# Request deployment duration\n",
    "print(\"Please enter a deployment duration:\")\n",
    "display(duration)\n",
    "\n",
    "# Request deployment duration\n",
    "print(\"Please enter an inference rate:\")\n",
    "display(inference_rate)"
   ]
  },
  {
   "cell_type": "code",
   "execution_count": 9,
   "id": "26d56585-60a0-4b13-8d9d-64633545ab6d",
   "metadata": {},
   "outputs": [
    {
     "name": "stdout",
     "output_type": "stream",
     "text": [
      "========Selections========\n",
      "Inference Rate: 0 (inferences/hour)\n",
      "Duration: 12 (months)\n",
      "==========================\n",
      "\n",
      "========Fermi Estimations========\n",
      "=================================\n"
     ]
    },
    {
     "data": {
      "text/plain": [
       "(0.0, 12.0)"
      ]
     },
     "execution_count": 9,
     "metadata": {},
     "output_type": "execute_result"
    },
    {
     "data": {
      "image/png": "[encoded data removed]",
      "text/plain": [
       "<Figure size 640x480 with 1 Axes>"
      ]
     },
     "metadata": {},
     "output_type": "display_data"
    }
   ],
   "source": [
    "# TO-DO: \n",
    "# Get accurate estimations for current values\n",
    "# figure out what other params we want to calculate (s), sampling rate (how many samples per hour, duration of samples)?\n",
    "\n",
    "print(\"========Selections========\")\n",
    "print(f\"Inference Rate: {inference_rate.value} (inferences/hour)\")\n",
    "print(f\"Duration: {duration.value} (months)\")\n",
    "print(\"==========================\")\n",
    "\n",
    "# Fermi Estimations on Battery weight and life\n",
    "print(\"\\n========Fermi Estimations========\")\n",
    "\n",
    "print(\"=================================\")\n",
    "\n",
    "# Plot 1\n",
    "fig1, ax1 = plt.subplots()\n",
    "plt.xlabel('Months')\n",
    "plt.ylabel('Amp Hours')\n",
    "ax1.set_xlim([0, duration.value])\n",
    "ax1.set_ylim([0, 12])\n",
    "\n",
    "\n",
    "# Plot 2\n",
    "# fig2, ax2 = plt.subplots()\n",
    "\n",
    "# # Plot 3\n",
    "# fig2, ax2 = plt.subplots()"
   ]
  },
  {
   "cell_type": "code",
   "execution_count": null,
   "id": "3ab6d719",
   "metadata": {},
   "outputs": [],
   "source": []
  },
  {
   "cell_type": "code",
   "execution_count": null,
   "id": "59a70c9a-68d5-41c9-b980-8f0fa910a80d",
   "metadata": {},
   "outputs": [],
   "source": []
  },
  {
   "cell_type": "code",
   "execution_count": null,
   "id": "79908dbe-f3d3-43c0-8a54-a85e516bea2d",
   "metadata": {},
   "outputs": [],
   "source": []
  },
  {
   "cell_type": "code",
   "execution_count": null,
   "id": "c817cd3d-99d7-41e7-b7e5-55b34e5b8ab2",
   "metadata": {},
   "outputs": [],
   "source": []
  },
  {
   "cell_type": "code",
   "execution_count": null,
   "id": "9bd100bc-8255-42c1-948b-6e91d10322e7",
   "metadata": {},
   "outputs": [],
   "source": []
  },
  {
   "cell_type": "code",
   "execution_count": null,
   "id": "2293b88b-0c05-417c-ba51-bcccb7c45fd9",
   "metadata": {},
   "outputs": [],
   "source": []
  },
  {
   "cell_type": "code",
   "execution_count": null,
   "id": "5a5d3e96-03ce-4fb9-a682-3335fc16c7cb",
   "metadata": {},
   "outputs": [],
   "source": []
  },
  {
   "cell_type": "code",
   "execution_count": null,
   "id": "4b91f385-5ffa-450f-b89f-1e7b8717d03f",
   "metadata": {},
   "outputs": [],
   "source": []
  }
 ],
 "metadata": {
  "kernelspec": {
   "display_name": "Python 3 (ipykernel)",
   "language": "python",
   "name": "python3"
  },
  "language_info": {
   "codemirror_mode": {
    "name": "ipython",
    "version": 3
   },
   "file_extension": ".py",
   "mimetype": "text/x-python",
   "name": "python",
   "nbconvert_exporter": "python",
   "pygments_lexer": "ipython3",
   "version": "3.13.2"
  }
 },
 "nbformat": 4,
 "nbformat_minor": 5
}

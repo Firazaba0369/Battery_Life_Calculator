{
 "cells": [
  {
   "cell_type": "code",
   "execution_count": 23,
   "id": "c53f247b",
   "metadata": {},
   "outputs": [],
   "source": [
    "# Importing Libraries\n",
    "import ipywidgets as widgets\n",
    "from IPython.display import display\n",
    "from matplotlib import pyplot as plt\n",
    "import numpy as np"
   ]
  },
  {
   "cell_type": "code",
   "execution_count": 5,
   "id": "4f7528cf",
   "metadata": {},
   "outputs": [
    {
     "ename": "NameError",
     "evalue": "name 'widgets' is not defined",
     "output_type": "error",
     "traceback": [
      "\u001b[31m---------------------------------------------------------------------------\u001b[39m",
      "\u001b[31mNameError\u001b[39m                                 Traceback (most recent call last)",
      "\u001b[36mCell\u001b[39m\u001b[36m \u001b[39m\u001b[32mIn[5]\u001b[39m\u001b[32m, line 4\u001b[39m\n\u001b[32m      1\u001b[39m \u001b[38;5;66;03m# ----- Definitions -----\u001b[39;00m\n\u001b[32m      2\u001b[39m \n\u001b[32m      3\u001b[39m \u001b[38;5;66;03m# duration\u001b[39;00m\n\u001b[32m----> \u001b[39m\u001b[32m4\u001b[39m duration = \u001b[43mwidgets\u001b[49m.BoundedIntText(\n\u001b[32m      5\u001b[39m     value=\u001b[32m0\u001b[39m,\n\u001b[32m      6\u001b[39m     \u001b[38;5;28mmin\u001b[39m=\u001b[32m0\u001b[39m,\n\u001b[32m      7\u001b[39m     \u001b[38;5;28mmax\u001b[39m=\u001b[32m24\u001b[39m,\n\u001b[32m      8\u001b[39m     step=\u001b[32m1\u001b[39m,\n\u001b[32m      9\u001b[39m     description=\u001b[33m'\u001b[39m\u001b[33mMonths:\u001b[39m\u001b[33m'\u001b[39m,\n\u001b[32m     10\u001b[39m     disabled=\u001b[38;5;28;01mFalse\u001b[39;00m\n\u001b[32m     11\u001b[39m )\n\u001b[32m     13\u001b[39m \u001b[38;5;66;03m# inference rate\u001b[39;00m\n\u001b[32m     14\u001b[39m inference_rate = widgets.BoundedIntText(\n\u001b[32m     15\u001b[39m     value = \u001b[32m0\u001b[39m,\n\u001b[32m     16\u001b[39m     \u001b[38;5;28mmin\u001b[39m = \u001b[32m0\u001b[39m,\n\u001b[32m   (...)\u001b[39m\u001b[32m     20\u001b[39m     disabled = \u001b[38;5;28;01mFalse\u001b[39;00m\n\u001b[32m     21\u001b[39m )\n",
      "\u001b[31mNameError\u001b[39m: name 'widgets' is not defined"
     ]
    }
   ],
   "source": [
    "# ----- Definitions -----\n",
    "\n",
    "# duration\n",
    "duration = widgets.BoundedIntText(\n",
    "    value=0,\n",
    "    min=0,\n",
    "    max=24,\n",
    "    step=1,\n",
    "    description='Months:',\n",
    "    disabled=False\n",
    ")\n",
    "\n",
    "# inference rate\n",
    "inference_rate = widgets.BoundedIntText(\n",
    "    value = 0,\n",
    "    min = 0,\n",
    "    max = 15,\n",
    "    step = 1,\n",
    "    description = 'Inference rate:',\n",
    "    disabled = False\n",
    ")"
   ]
  },
  {
   "cell_type": "code",
   "execution_count": 1,
   "id": "67f7de4e",
   "metadata": {},
   "outputs": [
    {
     "name": "stdout",
     "output_type": "stream",
     "text": [
      "Please enter a deployment duration:\n"
     ]
    },
    {
     "ename": "NameError",
     "evalue": "name 'duration' is not defined",
     "output_type": "error",
     "traceback": [
      "\u001b[31m---------------------------------------------------------------------------\u001b[39m",
      "\u001b[31mNameError\u001b[39m                                 Traceback (most recent call last)",
      "\u001b[36mCell\u001b[39m\u001b[36m \u001b[39m\u001b[32mIn[1]\u001b[39m\u001b[32m, line 5\u001b[39m\n\u001b[32m      1\u001b[39m \u001b[38;5;66;03m# Request Params\u001b[39;00m\n\u001b[32m      2\u001b[39m \n\u001b[32m      3\u001b[39m \u001b[38;5;66;03m# Request deployment duration\u001b[39;00m\n\u001b[32m      4\u001b[39m \u001b[38;5;28mprint\u001b[39m(\u001b[33m\"\u001b[39m\u001b[33mPlease enter a deployment duration:\u001b[39m\u001b[33m\"\u001b[39m)\n\u001b[32m----> \u001b[39m\u001b[32m5\u001b[39m display(\u001b[43mduration\u001b[49m)\n\u001b[32m      7\u001b[39m \u001b[38;5;66;03m# Request deployment duration\u001b[39;00m\n\u001b[32m      8\u001b[39m \u001b[38;5;28mprint\u001b[39m(\u001b[33m\"\u001b[39m\u001b[33mPlease enter an inference rate:\u001b[39m\u001b[33m\"\u001b[39m)\n",
      "\u001b[31mNameError\u001b[39m: name 'duration' is not defined"
     ]
    }
   ],
   "source": [
    "# Request Params\n",
    "\n",
    "# Request deployment duration\n",
    "print(\"Please enter a deployment duration:\")\n",
    "display(duration)\n",
    "\n",
    "# Request deployment duration\n",
    "print(\"Please enter an inference rate:\")\n",
    "display(inference_rate)"
   ]
  },
  {
   "cell_type": "code",
   "execution_count": 4,
   "id": "3d89f750-ed54-464b-9afc-0ba1be249320",
   "metadata": {},
   "outputs": [
    {
     "name": "stdout",
     "output_type": "stream",
     "text": [
      "========Selections========\n"
     ]
    },
    {
     "ename": "NameError",
     "evalue": "name 'inference_rate' is not defined",
     "output_type": "error",
     "traceback": [
      "\u001b[31m---------------------------------------------------------------------------\u001b[39m",
      "\u001b[31mNameError\u001b[39m                                 Traceback (most recent call last)",
      "\u001b[36mCell\u001b[39m\u001b[36m \u001b[39m\u001b[32mIn[4]\u001b[39m\u001b[32m, line 6\u001b[39m\n\u001b[32m      1\u001b[39m \u001b[38;5;66;03m### TO-DO: \u001b[39;00m\n\u001b[32m      2\u001b[39m \u001b[38;5;66;03m# Get accurate estimations for current values\u001b[39;00m\n\u001b[32m      3\u001b[39m \u001b[38;5;66;03m# figure out what other params we want to calculate (s), sampling rate (how many samples per hour, duration of samples)?\u001b[39;00m\n\u001b[32m      5\u001b[39m \u001b[38;5;28mprint\u001b[39m(\u001b[33m\"\u001b[39m\u001b[33m========Selections========\u001b[39m\u001b[33m\"\u001b[39m)\n\u001b[32m----> \u001b[39m\u001b[32m6\u001b[39m \u001b[38;5;28mprint\u001b[39m(\u001b[33mf\u001b[39m\u001b[33m\"\u001b[39m\u001b[33mInference Rate: \u001b[39m\u001b[38;5;132;01m{\u001b[39;00m\u001b[43minference_rate\u001b[49m.value\u001b[38;5;132;01m}\u001b[39;00m\u001b[33m (inferences/hour)\u001b[39m\u001b[33m\"\u001b[39m)\n\u001b[32m      7\u001b[39m \u001b[38;5;28mprint\u001b[39m(\u001b[33mf\u001b[39m\u001b[33m\"\u001b[39m\u001b[33mDuration: \u001b[39m\u001b[38;5;132;01m{\u001b[39;00mduration.value\u001b[38;5;132;01m}\u001b[39;00m\u001b[33m (months)\u001b[39m\u001b[33m\"\u001b[39m)\n\u001b[32m      8\u001b[39m \u001b[38;5;28mprint\u001b[39m(\u001b[33m\"\u001b[39m\u001b[33m==========================\u001b[39m\u001b[33m\"\u001b[39m)\n",
      "\u001b[31mNameError\u001b[39m: name 'inference_rate' is not defined"
     ]
    }
   ],
   "source": [
    "### TO-DO: \n",
    "# Get accurate estimations for current values\n",
    "# figure out what other params we want to calculate (s), sampling rate (how many samples per hour, duration of samples)?\n",
    "\n",
    "print(\"========Selections========\")\n",
    "print(f\"Inference Rate: {inference_rate.value} (inferences/hour)\")\n",
    "print(f\"Duration: {duration.value} (months)\")\n",
    "print(\"==========================\")\n",
    "\n",
    "# Add values to current consumption\n",
    "current_consumption = 0\n",
    "\n",
    "print(\"Total Current Consumption (mA):\", current_consumption)\n",
    "\n",
    "# Fermi Estimations on Battery weight and life\n",
    "print(\"\\n========Fermi Estimations========\")\n",
    "\n",
    "print(\"=================================\")\n",
    "\n",
    "\n",
    "# Plot \n",
    "#fig, ax = plt.subplots()"
   ]
  },
  {
   "cell_type": "code",
   "execution_count": null,
   "id": "3ab6d719",
   "metadata": {},
   "outputs": [],
   "source": []
  },
  {
   "cell_type": "code",
   "execution_count": null,
   "id": "59a70c9a-68d5-41c9-b980-8f0fa910a80d",
   "metadata": {},
   "outputs": [],
   "source": []
  },
  {
   "cell_type": "code",
   "execution_count": null,
   "id": "79908dbe-f3d3-43c0-8a54-a85e516bea2d",
   "metadata": {},
   "outputs": [],
   "source": []
  },
  {
   "cell_type": "code",
   "execution_count": null,
   "id": "c817cd3d-99d7-41e7-b7e5-55b34e5b8ab2",
   "metadata": {},
   "outputs": [],
   "source": []
  },
  {
   "cell_type": "code",
   "execution_count": null,
   "id": "9bd100bc-8255-42c1-948b-6e91d10322e7",
   "metadata": {},
   "outputs": [],
   "source": []
  },
  {
   "cell_type": "code",
   "execution_count": null,
   "id": "2293b88b-0c05-417c-ba51-bcccb7c45fd9",
   "metadata": {},
   "outputs": [],
   "source": []
  },
  {
   "cell_type": "code",
   "execution_count": null,
   "id": "5a5d3e96-03ce-4fb9-a682-3335fc16c7cb",
   "metadata": {},
   "outputs": [],
   "source": []
  },
  {
   "cell_type": "code",
   "execution_count": null,
   "id": "4b91f385-5ffa-450f-b89f-1e7b8717d03f",
   "metadata": {},
   "outputs": [],
   "source": []
  }
 ],
 "metadata": {
  "kernelspec": {
   "display_name": "Python 3 (ipykernel)",
   "language": "python",
   "name": "python3"
  },
  "language_info": {
   "codemirror_mode": {
    "name": "ipython",
    "version": 3
   },
   "file_extension": ".py",
   "mimetype": "text/x-python",
   "name": "python",
   "nbconvert_exporter": "python",
   "pygments_lexer": "ipython3",
   "version": "3.13.2"
  }
 },
 "nbformat": 4,
 "nbformat_minor": 5
}
